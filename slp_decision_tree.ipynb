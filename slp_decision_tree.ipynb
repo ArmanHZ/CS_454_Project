{
 "cells": [
  {
   "cell_type": "code",
   "execution_count": null,
   "metadata": {},
   "outputs": [],
   "source": [
    "# pip install python-mnist will install the required package\n",
    "from mnist import MNIST\n",
    "import numpy as np\n",
    "import pandas as pd\n",
    "import matplotlib.pyplot as plt\n",
    "from sklearn.tree import DecisionTreeClassifier\n",
    "from sklearn.model_selection import train_test_split\n",
    "from sklearn import metrics\n",
    "from sklearn.preprocessing import OneHotEncoder\n",
    "from threading import Thread\n",
    "from operator import itemgetter\n",
    "from sklearn.ensemble import RandomForestClassifier\n",
    "import torch\n",
    "import torchvision                                 # datasets and transformations modules\n",
    "import torchvision.transforms as transforms\n",
    "import torchvision.datasets as datasets\n",
    "import torch.nn as nn                              # neural network module\n",
    "import torch.nn.functional as F\n",
    "import torch.optim as optim                        # optimization module\n",
    "import torch.optim.lr_scheduler as lr_scheduler"
   ]
  },
  {
   "cell_type": "code",
   "execution_count": null,
   "metadata": {},
   "outputs": [],
   "source": [
    "# All networks derive from the base class nn.Module\n",
    "class Perceptron(nn.Module):\n",
    "    # get input and output dimensions as input\n",
    "    def __init__(self, d, K):\n",
    "        # all derived classes must call __init__ method of super class\n",
    "        super(Perceptron, self).__init__()\n",
    "        # create a fully connected layer from input to output\n",
    "        self.model = nn.Linear(d, K)\n",
    "    \n",
    "    # forward method should get the input and return the output\n",
    "    def forward(self,x):\n",
    "        batch_size = x.shape[0]\n",
    "        # flatten the image from BxCxHXW to Bx784\n",
    "        x = x.view(batch_size, -1)\n",
    "        x = self.model(x.float())\n",
    "        # softmax is internally done inside cross entropy loss\n",
    "        return x"
   ]
  },
  {
   "cell_type": "code",
   "execution_count": null,
   "metadata": {},
   "outputs": [],
   "source": [
    "class CustomGeneticForestClassifier:\n",
    "    def __init__(self, N, generation_number, class_percentage):\n",
    "        self.N = N\n",
    "        self.generation_number = generation_number\n",
    "        self.class_percentage = class_percentage\n",
    "        self.trained_trees = []\n",
    "        self.slp = None\n",
    "        self.prediction_tree = None\n",
    "        self.one_hot_encoder = None\n",
    "        # torch parameters\n",
    "        self.SEED = 0            # reproducability\n",
    "        # NN Parameters\n",
    "        self.EPOCHS = 20          # number of epochs\n",
    "        self.LR = 0.01            # learning rate\n",
    "        self.MOMENTUM = 0.9       # momentum for the optimizer\n",
    "        self.WEIGHT_DECAY = 1e-5  # weight decay for the optimizer\n",
    "        self.GAMMA = 0.1          # learning rate schedular\n",
    "        self.BATCH_SIZE = 32      # number of images to load per iteration\n",
    "        \n",
    "        self.train_tree_batch = 20\n",
    "        self.mutation_rate = 0.2\n",
    "        self.population_list = None\n",
    "\n",
    "    def train_net(self):\n",
    "        # put the network in training mode\n",
    "        self.slp.train()\n",
    "        # keep record of the loss value\n",
    "        epoch_loss = 0.0\n",
    "        # use training data as batches\n",
    "        for xt, rt in self.train_loader:\n",
    "            # move training instances and corresponding labels into gpu if cuda is available\n",
    "            xt, rt = xt.to(self.device), rt.to(self.device)\n",
    "            # clear the previously accumulated gradients\n",
    "            self.optimizer.zero_grad() \n",
    "            # forward the network\n",
    "            yt = self.slp(xt)\n",
    "            # calculate loss\n",
    "            loss = self.loss_fn(yt, rt)\n",
    "            # make a backward pass, calculate gradients\n",
    "            loss.backward()\n",
    "            # update weights\n",
    "            self.optimizer.step()\n",
    "            # accumulate loss\n",
    "            epoch_loss += loss.item()\n",
    "        return epoch_loss\n",
    "        \n",
    "    def train_tree(self, filter_label, state_counter, tree_list):\n",
    "        \n",
    "        y_train_subtree = self.y_train[self.y_train.label.isin(filter_label)]\n",
    "        X_train_subtree = self.X_train.loc[y_train_subtree.index.values.tolist()]\n",
    "        \n",
    "        dtc = DecisionTreeClassifier(random_state=state_counter)\n",
    "        dtc = dtc.fit(X_train_subtree,y_train_subtree)\n",
    "        y_valid_filtered= self.y_valid[self.y_valid.label.isin(filter_label)]\n",
    "        X_valid_filtered = self.X_valid.loc[y_valid_filtered.index]\n",
    "        y_pred = dtc.predict(X_valid_filtered)\n",
    "        tree_accuracy = metrics.accuracy_score(y_valid_filtered, y_pred)\n",
    "        print(state_counter+1, end=\" \")\n",
    "        tree_list.append({\"tree\": dtc, \"accuracy\": tree_accuracy, \"filter_label\": filter_label})   \n",
    "        \n",
    "    def fit_trees(self, filter_labels, tree_list):\n",
    "        print(\"Started to train {} trees.\".format(len(filter_labels)))\n",
    "        print(\"Trained Trees: \", end=\"\")\n",
    "        state_counter = 0\n",
    "        train_threads = []\n",
    "        for filter_label in filter_labels:\n",
    "            train_threads.append(Thread(target=self.train_tree, args=[filter_label, state_counter, tree_list]))\n",
    "            state_counter += 1\n",
    "        for thread_index in range(0, len(train_threads), self.train_tree_batch ):\n",
    "            current_train_threads = train_threads[thread_index:thread_index+self.train_tree_batch ]\n",
    "            for train_thread in current_train_threads:\n",
    "                train_thread.start()\n",
    "            for train_thread in current_train_threads:\n",
    "                train_thread.join()\n",
    "        print(\"\\n{} Trees are trained.\".format(len(filter_labels)))\n",
    "                \n",
    "    def train_slp(self, one_hot_encoded_predictions):\n",
    "        print(\"Started to train SLP.\")\n",
    "        self.d = one_hot_encoded_predictions.shape[1]      # number of input features \n",
    "        \n",
    "        # print(\"SLP input dimension:\", self.d)\n",
    "        \n",
    "        # manual seed to reproduce same resultsnet\n",
    "        torch.manual_seed(self.SEED)\n",
    "        # create the network\n",
    "        self.slp = Perceptron(self.d,self.K)\n",
    "        # check if CUDA is available\n",
    "        cuda = torch.cuda.is_available()  \n",
    "        self.device = torch.device(\"cuda:0\" if cuda else \"cpu\")\n",
    "        # if cuda is available move network into gpu\n",
    "        self.slp.to(self.device)\n",
    "        # specify the loss to be used\n",
    "        # softmax is internally computed.\n",
    "        self.loss_fn = nn.CrossEntropyLoss()\n",
    "        # specify the optimizer to update the weights during backward pass\n",
    "        self.optimizer = optim.SGD(self.slp.parameters(), lr=self.LR, momentum=self.MOMENTUM, weight_decay=self.WEIGHT_DECAY)\n",
    "        # change learning rate over time\n",
    "        self.scheduler = lr_scheduler.StepLR(self.optimizer, step_size=10, gamma=self.GAMMA) #CHECK THIS\n",
    "        \n",
    "        train_target = torch.tensor(self.y_train.values.flatten().astype(np.int32)).long()\n",
    "\n",
    "        train = torch.tensor(one_hot_encoded_predictions) \n",
    "\n",
    "        train_tensor = torch.utils.data.TensorDataset(train, train_target) \n",
    "        self.train_loader = torch.utils.data.DataLoader(dataset = train_tensor, batch_size = self.BATCH_SIZE, shuffle = True, num_workers=8)\n",
    "        \n",
    "        # train the network\n",
    "        for epoch in range(1,self.EPOCHS+1):\n",
    "            # train network for one epoch\n",
    "            self.train_net()\n",
    "        # print(\"SLP Weights:\", self.slp.model.weight)\n",
    "        print(\"SLP is trained.\")\n",
    "        \n",
    "    def one_hot_encode(self, total_predictions):\n",
    "        self.one_hot_encoder = OneHotEncoder(handle_unknown='ignore') \n",
    "        self.one_hot_encoder.fit(total_predictions)\n",
    "        \n",
    "        one_hot_encoded_predictions = self.one_hot_encoder.transform(total_predictions).toarray() \n",
    "        return one_hot_encoded_predictions\n",
    "\n",
    "    \n",
    "    def train_prediction_tree(self, one_hot_encoded_predictions):\n",
    "        self.prediction_tree = DecisionTreeClassifier(random_state=200)\n",
    "        self.prediction_tree = self.prediction_tree.fit(one_hot_encoded_predictions, self.y_train)\n",
    "        \n",
    "        \n",
    "    def fit(self, X_train, y_train):\n",
    "        self.X_train, self.X_valid, self.y_train, self.y_valid = train_test_split(X_train, y_train, test_size=0.2, random_state=0)  # Train-test split pairs\n",
    "        self.label_count = len(y_train.label.unique())\n",
    "        self.sample_count = y_train.shape[0]\n",
    "        self.K = self.label_count              # number of output features\n",
    "        \n",
    "        self.population_list = self.genetic_find_parameters()\n",
    "        last_population = self.population_list[-1]\n",
    "        \n",
    "        self.trained_trees = [member['tree'] for member in last_population]\n",
    "        \n",
    "        total_predictions = self.forest_trees_predict(self.X_train)\n",
    "        one_hot_encoded_predictions = self.one_hot_encode(total_predictions)\n",
    "        self.train_slp(one_hot_encoded_predictions)\n",
    "        self.train_prediction_tree(total_predictions)\n",
    "        \n",
    "    def model_analysis(self, X_train, y_train, X_test, y_test):\n",
    "        self.X_train, self.X_valid, self.y_train, self.y_valid = train_test_split(X_train, y_train, test_size=0.2, random_state=0)  # Train-test split pairs\n",
    "        self.label_count = len(y_train.label.unique())\n",
    "        self.sample_count = y_train.shape[0]\n",
    "        self.K = self.label_count              # number of output features\n",
    "        \n",
    "        self.population_list = self.genetic_find_parameters()\n",
    "        \n",
    "        majority_accuracies = []\n",
    "        slp_accuracies = []\n",
    "        prediction_tree_accuracies = []\n",
    "        population_mean_accuracies = []\n",
    "        \n",
    "        for population in self.population_list:\n",
    "            \n",
    "            population_mean_accuracy = np.mean(np.asarray([member['accuracy'] for member in population]))\n",
    "            population_mean_accuracies.append(population_mean_accuracy)\n",
    "\n",
    "            self.trained_trees = [member['tree'] for member in population]\n",
    "            total_predictions = self.forest_trees_predict(self.X_train)\n",
    "            one_hot_encoded_predictions = self.one_hot_encode(total_predictions)\n",
    "            self.train_slp(one_hot_encoded_predictions)\n",
    "            self.train_prediction_tree(total_predictions)\n",
    "            \n",
    "            majority_voting_pred = self.majority_voting_predict(X_test)\n",
    "            slp_pred = self.slp_predict(X_test)\n",
    "            prediction_tree_predict = self.prediction_tree_predict(X_test)\n",
    "            \n",
    "            majority_accuracy = metrics.accuracy_score(y_test, majority_voting_pred)\n",
    "            slp_accuracy = metrics.accuracy_score(y_test, slp_pred)\n",
    "            prediction_tree_accuracy = metrics.accuracy_score(y_test, prediction_tree_predict)\n",
    "            \n",
    "            majority_accuracies.append(majority_accuracy)\n",
    "            slp_accuracies.append(slp_accuracy)\n",
    "            prediction_tree_accuracies.append(prediction_tree_accuracy)\n",
    "        generation_numbers = np.arange(len(self.population_list))\n",
    "        return generation_numbers, prediction_tree_accuracies, slp_accuracies, majority_accuracies, population_mean_accuracies\n",
    "        \n",
    "    \n",
    "    def majority_voting_predict(self, X_test):\n",
    "        total_predictions = self.forest_trees_predict(X_test)\n",
    "        # Majority Voting\n",
    "        predicted_values = []\n",
    "        for row in total_predictions:\n",
    "            majority_vote = np.bincount(row).argmax()\n",
    "            predicted_values.append(majority_vote)\n",
    "        y_pred_class = np.asarray(predicted_values)\n",
    "        return y_pred_class\n",
    "    \n",
    "    def slp_predict(self, X_test):\n",
    "        total_predictions = self.forest_trees_predict(X_test)\n",
    "        # SLP\n",
    "        one_hot_encoded_predictions = self.one_hot_encoder.transform(total_predictions).toarray() \n",
    "        test = torch.tensor(one_hot_encoded_predictions) \n",
    "        y_pred = self.slp(test.to(self.device))\n",
    "        y_pred = y_pred.cpu().detach().numpy()\n",
    "        y_pred_class = np.asarray([np.argmax(pred) for pred in y_pred])\n",
    "        return y_pred_class\n",
    "    \n",
    "    def prediction_tree_predict(self, X_test):\n",
    "        total_predictions = self.forest_trees_predict(X_test)\n",
    "        # Prediction Tree\n",
    "        y_pred_class = self.prediction_tree.predict(total_predictions)\n",
    "        return y_pred_class\n",
    "    \n",
    "    def forest_trees_predict(self, X_test):\n",
    "        total_predictions = self.trained_trees[0].predict(X_test)\n",
    "        for i in range(1, self.N):\n",
    "            total_predictions = np.vstack([total_predictions, self.trained_trees[i].predict(X_test)])\n",
    "        total_predictions = np.transpose(total_predictions)\n",
    "        return total_predictions\n",
    "    \n",
    "    \n",
    "    # Genetic algorithm  \n",
    "    def generate_parent_samples(self):\n",
    "        generation = []\n",
    "        for i in range(self.N):\n",
    "            generation.append(np.random.choice(range(self.label_count), round(self.label_count*self.class_percentage), replace=False))\n",
    "        return generation  \n",
    "\n",
    "\n",
    "    def genetic_find_parameters(self):\n",
    "        print(\"Genetic algorithm is started.\")\n",
    "        generation = self.generate_parent_samples()\n",
    "        population_list = []\n",
    "        for i in range(self.generation_number+1):\n",
    "            print(\"Generation:\",i)\n",
    "            trained_tree_results = []\n",
    "            self.fit_trees(generation, trained_tree_results)\n",
    "            population_list.append(trained_tree_results)\n",
    "            generation = self.evolve(trained_tree_results)\n",
    "        print(\"\\nGenetic algorithm is ended.\")\n",
    "        return population_list\n",
    "    \n",
    "        \n",
    "    def evolve(self, trained_tree_results):\n",
    "        \n",
    "        trained_tree_results_sorted = sorted(trained_tree_results, key=itemgetter(\"accuracy\"), reverse=True)\n",
    "        \n",
    "        next_generation = []\n",
    "        \n",
    "        # Elitism\n",
    "        next_generation.append(trained_tree_results_sorted[0][\"filter_label\"])\n",
    "        for i in range(1, len(trained_tree_results)):\n",
    "            parent_1 = self.tournament(trained_tree_results)\n",
    "            parent_2 = self.tournament(trained_tree_results)\n",
    "            child = self.crossover(parent_1, parent_2)\n",
    "            child = self.mutate(child)  \n",
    "            next_generation.append(child)        \n",
    "        return next_generation\n",
    "\n",
    "    \n",
    "    def crossover(self, parent1, parent2):\n",
    "        parents_merged = np.unique(np.append(parent1, parent2))\n",
    "        child = np.random.choice(parents_merged, len(parent1), replace=False)\n",
    "        return np.sort(child)\n",
    "\n",
    "    \n",
    "    def mutate(self, child):\n",
    "        mutated_child = []\n",
    "        if len(child) == self.label_count:\n",
    "            return child\n",
    "        non_existing_labels = []\n",
    "        for label in range(self.label_count):\n",
    "            if label not in child:\n",
    "                non_existing_labels.append(label)\n",
    "        for gen in child:\n",
    "            if np.random.random() < self.mutation_rate:\n",
    "                selected_label_index = np.random.randint(len(non_existing_labels))\n",
    "                mutated_child.append(non_existing_labels.pop(selected_label_index))\n",
    "            else:\n",
    "                mutated_child.append(gen)\n",
    "        return np.sort(mutated_child)\n",
    "\n",
    "    def tournament(self, generation):\n",
    "        # print(\"*********** Tournament ***********\")\n",
    "        accuracies = np.asarray([tree[\"accuracy\"] for tree in generation])\n",
    "        accuracies -= np.min(accuracies)\n",
    "        probabilities = np.asarray(accuracies)/sum(accuracies)\n",
    "        # print(\"Probabilities:\",probabilities)\n",
    "        selected = np.random.choice(generation, 1, p=probabilities)[0][\"filter_label\"]\n",
    "        # print(\"Selected:\", selected)\n",
    "        return selected"
   ]
  },
  {
   "cell_type": "code",
   "execution_count": null,
   "metadata": {},
   "outputs": [],
   "source": [
    "np.random.seed(60) # reproducability\n",
    "\n",
    "def mnist_dataset_read(path):\n",
    "    mndata = MNIST(path)\n",
    "\n",
    "    # read training images and corresponding labels\n",
    "    tr_images, tr_labels = mndata.load_training()\n",
    "    # read test images and corresponding labels\n",
    "    tt_images, tt_labels = mndata.load_testing()\n",
    "\n",
    "    # convert lists into numpy format and apply normalization\n",
    "    tr_images = np.array(tr_images) / 255. # shape (60000, 784)\n",
    "    tr_labels = np.array(tr_labels)         # shape (60000,)\n",
    "    tt_images = np.array(tt_images) / 255. # shape (10000, 784)\n",
    "    tt_labels = np.array(tt_labels)         # shape (10000,)\n",
    "\n",
    "    columns_images = ['p{}'.format(i+1) for i in range(784)]\n",
    "    X_train = pd.DataFrame(data=tr_images, columns=columns_images)\n",
    "    y_train = pd.DataFrame(data=tr_labels, columns=['label'])\n",
    "    X_test = pd.DataFrame(data=tt_images, columns=columns_images)\n",
    "    y_test = pd.DataFrame(data=tt_labels, columns=['label'])\n",
    "    return X_train, X_test, y_train, y_test"
   ]
  },
  {
   "cell_type": "code",
   "execution_count": null,
   "metadata": {},
   "outputs": [],
   "source": [
    "def unpickle(file):\n",
    "    import pickle\n",
    "    with open(file, 'rb') as fo:\n",
    "        dict = pickle.load(fo, encoding='bytes')\n",
    "    return dict\n",
    "\n",
    "def load_data(btch):\n",
    "    labels = btch[b'labels']\n",
    "    imgs = btch[b'data'].reshape((-1, 32, 32, 3))\n",
    "    \n",
    "    res = []\n",
    "    for ii in range(imgs.shape[0]):\n",
    "        img = imgs[ii].copy()\n",
    "        #img = np.transpose(img.flatten().reshape(3,32,32))\n",
    "        img = np.fliplr(np.rot90(np.transpose(img.flatten().reshape(3,32,32)), k=-1))\n",
    "        res.append(img)\n",
    "    imgs = np.stack(res)\n",
    "    return labels, imgs\n",
    "\n",
    "def load_data_cifar():\n",
    "    batch1 = unpickle(\"Datasets/cifar-10-batches-py/data_batch_1\")\n",
    "    batch2 = unpickle(\"Datasets/cifar-10-batches-py/data_batch_2\")\n",
    "    batch3 = unpickle(\"Datasets/cifar-10-batches-py/data_batch_3\")\n",
    "    batch4 = unpickle(\"Datasets/cifar-10-batches-py/data_batch_4\")\n",
    "    batch5 = unpickle(\"Datasets/cifar-10-batches-py/data_batch_5\")\n",
    "    test_batch = unpickle(\"Datasets/cifar-10-batches-py/test_batch\")\n",
    "    \n",
    "    pixel_num = 32*32*3\n",
    "    x_train_l = []\n",
    "    y_train_l = []\n",
    "    for ibatch in [batch1, batch2, batch3, batch4, batch5]:\n",
    "        labels, imgs = load_data(ibatch)\n",
    "        x_train_l.append(imgs)\n",
    "        y_train_l.extend(labels)\n",
    "    x_train = np.vstack(x_train_l)\n",
    "    y_train = np.vstack(y_train_l)\n",
    "    \n",
    "    x_test_l = []\n",
    "    y_test_l = []\n",
    "    labels, imgs = load_data(test_batch)\n",
    "    x_test_l.append(imgs)\n",
    "    y_test_l.extend(labels)\n",
    "    x_test = np.vstack(x_test_l)\n",
    "    y_test = np.vstack(y_test_l)\n",
    "    \n",
    "    del batch1, batch2, batch3, batch4, batch5, test_batch\n",
    "    \n",
    "    # imgplot = plt.imshow(x_train[58])\n",
    "    \n",
    "    x_train, x_test = x_train.reshape(-1, pixel_num), x_test.reshape(-1, pixel_num)\n",
    "    \n",
    "    columns_images = ['p{}'.format(i+1) for i in range(pixel_num)]\n",
    "    X_train = pd.DataFrame(data=x_train, columns=columns_images)\n",
    "    y_train = pd.DataFrame(data=y_train, columns=['label'])\n",
    "    X_test = pd.DataFrame(data=x_test, columns=columns_images)\n",
    "    y_test = pd.DataFrame(data=y_test, columns=['label'])\n",
    "    \n",
    "    return X_train, y_train, X_test, y_test"
   ]
  },
  {
   "cell_type": "code",
   "execution_count": null,
   "metadata": {},
   "outputs": [],
   "source": [
    "def plot_genetic_analysis(generation_numbers, prediction_tree_accuracies, slp_accuracies, majority_accuracies, population_mean_accuracies, dataset_name):\n",
    "    plt.figure(figsize=(20, 10))\n",
    "    plt.plot(generation_numbers, prediction_tree_accuracies, marker=\"o\", label = \"Prediction Tree\")\n",
    "    plt.plot(generation_numbers, slp_accuracies, marker=\"o\", label = \"SLP\")\n",
    "    plt.plot(generation_numbers, majority_accuracies, marker=\"o\", label = \"Majority Voting\")\n",
    "    plt.plot(generation_numbers, population_mean_accuracies, marker=\"o\", label = \"Population Mean*\")\n",
    "    plt.title(\"Accuracies of Generations ({} Dataset)\\n\".format(dataset_name), fontsize=25)\n",
    "    plt.xlabel(\"\\nGeneration Number\\n\\n * Population mean accuracy is calculated for each tree only by using data from their train labels.\", fontsize=15)\n",
    "    plt.ylabel(\"Accuracy\\n\", fontsize=20)\n",
    "    plt.legend(loc='lower right', prop={'size': 15})\n",
    "    plt.show()"
   ]
  },
  {
   "cell_type": "code",
   "execution_count": null,
   "metadata": {},
   "outputs": [],
   "source": [
    "m_X_train, m_X_test, m_y_train, m_y_test = mnist_dataset_read('Datasets/MNIST')\n",
    "fm_X_train, fm_X_test, fm_y_train, fm_y_test = mnist_dataset_read('Datasets/Fashion_MNIST')\n",
    "c_X_train, c_y_train, c_X_test, c_y_test = load_data_cifar()"
   ]
  },
  {
   "cell_type": "code",
   "execution_count": 8,
   "metadata": {},
   "outputs": [],
   "source": [
    "# cgfc = CustomGeneticForestClassifier(N=200, generation_number=10, class_percentage = 0.5)"
   ]
  },
  {
   "cell_type": "code",
   "execution_count": 9,
   "metadata": {},
   "outputs": [
    {
     "name": "stdout",
     "output_type": "stream",
     "text": [
      "Genetic algorithm is started.\n",
      "Generation: 0\n",
      "Started to train 200 trees.\n",
      "Trained Trees: 19 1 15 16 17 7 8 9 20 3 11 4 2 5 13 14 10 18 6 12 33 29 22 21 30 26 34 40 25 37 32 36 38 24 28 27 31 23 35 39 47 52 41 56 5960  48 44 51 55 54 43 49 46 50 42 53 58 57 45 61 78 69 66 68 74 73 65 62 77 67 71 70 72 64 75 79 63 76 80 83 94 98 95 90 86 97 89 93 81 84 82 87 99 85 88 92 91 100 96 105 114 102 104 110 113 118 109 120 117 106 112 116 108 101 103 107 111 115 119 134 133 137 130 126 125 127 124 121 138 129 123 122 132 131 136 135 139 128 140 160 147 142 156 155 159 152 151 158 144 143 141 153 146 150 148 157 145 154 149 176 163 180 177 165 168 175 162 167 174 164 166 179 173 169 161 172 170 171 178 190 189 193 182 198 194 197 181 188 184 196 186 185 183 192 195 191 200 187 199 \n",
      "200 Trees are trained.\n",
      "Generation: 1\n",
      "Started to train 200 trees.\n",
      "Trained Trees: 4 5 2 17 9 14 13 18 10 8 3 6 15 7 20 12 1 19 16 11 40 28 27 36 32 35 39 31 30 34 38 23 24 22 25 21 33 26 29 37 47 42 54 44 46 45 58 50 49 41 57 48 53 52 56 59 60 43 51 55 61 64 62 77 78 6869  74 70 75 71 67 8073  66 65 72 63 79 76 82 81 97 90 98 93 86 99 88 94 85 89 95 83 87 91 96 92 84 100 101 113 112 103 106 115 102 111 114 108 120 109 105 110 118 104 116 117 107 119 132 139 127 125 123 140 136 135 124 129 133 134 121 130 126 122 131 137 138 128 149 141 151 144 159 147 158 155 146 152 145 160 154 148 142 143 150 157 156 153 172 162 165 163 164 161 169 166 168 174 170 173 179 180 178 175 171 176 177 167 196 194 190 192 200 185 181 186 195 198 182 184 197 183 199 191 188 189 193 187 \n",
      "200 Trees are trained.\n",
      "Generation: 2\n",
      "Started to train 200 trees.\n",
      "Trained Trees: 11 6 13 4 5 9 12 3 17 1 15 2 7 8 14 16 10 20 18 19 40 26 29 32 30 22 34 33 25 36 23 24 37 38 35 27 39 21 31 28 41 50 54 42 46 45 57 58 53 55 48 59 44 52 47 49 43 51 56 60 69 80 78 65 70 62 75 63 77 73 61 74 66 64 79 71 68 72 67 76 82 93 85 97 90 94 86 89 98 81 83 95 87 96 100 99 91 84 92 88 113 106 103 101 117 114 110 109 105 108 119 120 102 104 118 107 111 115 116 112 121 133 130 126 129 137 138 134 125 127 122 128 124 135 139 131 136 132 123 140 152 145 148 141 142 155 144 147 143 156 160 157 154 158 151 153 150 146 149 159 166 177 178 170 174 164 162 161 165 176 168 169 171 172 173 167 163 179 175 180 182 193 198 185 196 186 190 189 197 183 199 194 181 195 188 184 187 192 200 191 \n",
      "200 Trees are trained.\n",
      "Generation: 3\n",
      "Started to train 200 trees.\n",
      "Trained Trees: 16 5 1 10 18 19 20 9 8 2 17 13 14 11 12 3 7 6 4 15 22 38 37 30 29 33 26 34 21 3524  25 36 23 31 28 27 39 32 40 44 46 49 45 48 60 53 55 42 41 57 47 51 59 52 50 54 58 43 56 65 62 61 70 73 78 74 77 69 66 68 64 63 72 79 75 71 67 76 80 82 85 94 98 97 93 84 89 90 81 86 99 96 83 92 100 91 95 87 88 105 118 104 108 117 106 103 112 116 101 107 110 109 102 113 115 114 119 111 120 125 128 137 132 129 136 138 121 134 126 135 123 133 124 140 122 131 130 127 139 146 158 144 145 154 149 153 157 150 151 156 159 142 141 143 148 155 160 147 152 178 165 173 161 164 167 166 174 172 170 162 169 163 175 177 171 179 168 176 180 188 191 192 195 190 200 199 182 183 187 185 194 184 193 196 181 197 186 198 189 \n",
      "200 Trees are trained.\n",
      "Generation: 4\n",
      "Started to train 200 trees.\n",
      "Trained Trees: 4 19 7 11 8 15 12 20 3 2 16 9 18 14 1 5 10 6 17 13 34 22 21 28 29 37 30 33 38 36 35 39 31 24 32 40 25 27 26 23 42 54 44 46 50 53 58 41 57 45 49 47 43 55 51 59 52 60 48 56 75 68 61 71 64 76 79 63 80 67 69 72 66 70 65 74 78 73 62 77 94 82 97 98 93 81 90 89 86 85 99 88 84 96 87 83 91 92 100 95 106 113 102 110 118 109 115 117105  111 119 116 114 108 107 104 103 112 101 120 133 137 134 138 130 122 126 125 123 128 121 127 129 132 124 135 136 131 139 140 147 155 146 150 157 149 159 160 153 141 145 154 156 148 142 151 144 143 158 152 162 167 161 173 165 177 170 166 178 174 175 169 163 164 168 180 172 171 179 176 184 200 198 193 182 194 187 196 190 181 189 185 199 186 197 183 192 195 191 188 \n",
      "200 Trees are trained.\n",
      "Generation: 5\n",
      "Started to train 200 trees.\n",
      "Trained Trees: 6 14 13 9 17 10 18 5 2 7 19 4 12 1 8 16 11 20 15 3 21 24 34 25 22 33 30 23 38 37 29 26 28 39 36 35 40 27 32 31 41 43 49 60 47 44 54 45 58 46 51 57 48 56 55 42 50 52 53 59 65 69 63 74 70 78 73 62 61 80 67 7772  76 79 64 75 68 71 66 85 9489  83 93 90 81 97 98 88 99 84 91 95 82 96 100 86 92 87 107 111 115 116 120 104 119 112 103 102 110 106 117 114 108 109 113 105 101 118 130 137 129 138 125 126 133 134 121 124 140 128 127 135 132 122 123 139 131 136 147 151 159 160 156 143 142 148 155 150 141 146 144 158 153 149 152 157 145 154 169 178 165 170 161 177 166 173 174 163 179 164 175 162 176 167 168 180 171 172 183 185 197 181 189 182 188 190 193 194 200 192 184 191 187 198 186 195 199 196 \n",
      "200 Trees are trained.\n",
      "Generation: 6\n",
      "Started to train 200 trees.\n",
      "Trained Trees: 1 14 6 10 5 9 18 13 17 3 4 2 20 12 8 19 15 11 16 7 34 22 30 33 27 38 37 25 29 21 23 32 24 28 35 31 40 39 26 36 41 45 51 56 42 43 52 60 46 49 57 50 55 58 59 53 48 47 44 54 65 64 63 74 70 73 61 78 77 69 68 67 62 71 75 76 66 80 72 79 97 88 93 95 96 98 89 85 86 83 81 90 82 100 91 94 87 84 99 92 103 109 117 101 110 113 105 114 118 120 106 107 102 104 108 119 116 112 115 111 127 130 131 122 129 128 125 123 134 121 124 132 135 140 137 138 133 126 139 136 145 154 149 153 158 157 150 146 155 160 141 152 142 144 148 147 143 156 151 159 161 165 173 175 164 170 178 166 162 169 174 172 171 163 180 179 176 167 177 168 182 198 186 194 190 181 197 193 183 192 185 196 195 189 184 200 187 188 199 191 \n",
      "200 Trees are trained.\n",
      "Generation: 7\n",
      "Started to train 200 trees.\n",
      "Trained Trees: 3 18 4 13 9 7 1 8 2 16 20 10 12 11 17 19 15 14 5 6 25 27 39 32 40 35 23 36 29 22 28 24 31 26 33 21 30 38 34 37 48 5542  51 43 56 59 50 60 41 46 52 54 58 44 53 49 47 45 57 78 73 77 74 69 65 61 66 68 70 62 64 75 80 71 76 67 63 72 79 91 95 96 87 100 85 88 92 99 98 84 89 90 97 86 83 82 81 94 93 101 105 118 109 113 110 106 117 114 112 103 108 102 107 111 120 119 104 115 116 121 124 130 136 125 134 123 129 137 127 138 132 135 131 139 128 122 133 126 140 148 147 156 159 141 160 143 155 144 145 146 158 151 157 142 153 152 154 149 150 163 173 162 170 167 177 176 161 169 178 166 174 165 168 171 164 179 172 175 180 189 198 190 197 182 186 194 184 193 185 181 195 187 196 192 200 199 183 188 191 \n",
      "200 Trees are trained.\n",
      "Generation: 8\n",
      "Started to train 200 trees.\n",
      "Trained Trees: 9 7 1 8 11 16 5 19 10 18 6 20 3 4 15 14 2 12 13 17 29 22 38 21 33 37 34 30 40 23 27 31 32 28 26 35 25 24 39 36 45 41 54 58 57 48 53 50 49 60 47 52 42 46 43 59 55 44 56 51 68 7663  71 64 65 61 79 75 66 80 72 73 69 70 74 67 77 78 62 82 93 94 98 97 85 89 95 91 87 84 96 83 90 99 81 86 100 88 92 104 101 115 117 105 118 106 110 102 113 112 114 107 103 116 119 109 120 108 111 128 122 121 124 129 125 135 126 140 136 138 139 123 132 131 134 133 137 127 130 150 158 149 146 157 153 141 154 160 142 148 152 159 151 143 155 145 147 144 156 162 177 169 165 178 174 167 173 170 176 161 180 168 179 163 164 171 172 175 166 189 200 194 184 192 197 186 195 182 183 196 185 190 199 188 191 198 187 181 193 \n",
      "200 Trees are trained.\n",
      "Generation: 9\n",
      "Started to train 200 trees.\n",
      "Trained Trees: 3 13 8 16 12 15 4 20 19 11 2 18 5 1 9 6 10 14 7 17 38 27 30 25 24 29 3734  33 26 23 39 21 31 40 28 32 22 35 36 56 52 57 46 50 51 60 54 45 43 41 48 58 42 55 53 49 59 44 47 69 78 73 70 66 62 77 64 68 63 61 76 65 67 75 71 72 79 74 80 92 91 95 84 100 83 85 88 96 90 99 89 94 97 87 82 81 98 86 93 112 103 108 115 104 102 119 116 120 106 113 110 109 118 105 101 114 107 111 117 131 135 126 128 124 132 122 139 140 136 127 137 130 134 123 125 121 133 138 129 142 152 150 156 149 141 153 146 151 158 145 147 155 159 144 148 143 157 160 154 175 163 176 173170  178 179 174 165 169 172 166 177 161 162 168 180 171 164 167 194 189 182 187 190 198 193 197 196 185 199 184 183 195 181 192 200 188 191 186 \n",
      "200 Trees are trained.\n",
      "Generation: 10\n",
      "Started to train 200 trees.\n",
      "Trained Trees: 20 6 8 1 5 15 4 2 7 16 11 10 18 3 12 19 14 13 9 17 26 29 37 38 21 33 34 23 30 25 36 22 24 40 28 31 39 35 32 27 48 56 60 52 55 47 51 42 45 59 46 57 54 49 41 44 53 43 58 50 63 75 62 76 68 67 71 79 80 72 66 65 74 64 69 78 70 77 73 61 93 89 98 85 94 97 90 86 82 92 99 100 95 83 84 96 87 81 88 91 106 109 117 114 112 103 113 118 105 110 102 120 107 108 104 111 101 115 116 119 133 135 124 123 136 131 132 140 121 139 129 122 128 125 127 126 134 138 137 130 149 157 147142  144 154 158 153 141 151 155 150 146 143 160 148 156 152 159 145 171 172 161 162 174 163 180 164 176 178 179 168 177 173 169 166 170 167 175 165 188 187 183 181 182 192 197 194 190 185 200 189 196 198 199 195 191 193 184 186 \n",
      "200 Trees are trained.\n",
      "\n",
      "Genetic algorithm is ended.\n",
      "Started to train SLP.\n",
      "SLP is trained.\n",
      "Started to train SLP.\n",
      "SLP is trained.\n",
      "Started to train SLP.\n",
      "SLP is trained.\n",
      "Started to train SLP.\n",
      "SLP is trained.\n",
      "Started to train SLP.\n",
      "SLP is trained.\n",
      "Started to train SLP.\n",
      "SLP is trained.\n",
      "Started to train SLP.\n",
      "SLP is trained.\n",
      "Started to train SLP.\n",
      "SLP is trained.\n",
      "Started to train SLP.\n",
      "SLP is trained.\n",
      "Started to train SLP.\n",
      "SLP is trained.\n",
      "Started to train SLP.\n",
      "SLP is trained.\n"
     ]
    }
   ],
   "source": [
    "# m_generation_numbers, m_prediction_tree_accuracies, m_slp_accuracies, m_majority_accuracies, m_population_mean_accuracies = cgfc.model_analysis(m_X_train, m_y_train, m_X_test, m_y_test)"
   ]
  },
  {
   "cell_type": "code",
   "execution_count": 10,
   "metadata": {},
   "outputs": [
    {
     "data": {
      "image/png": "[encoded data removed]",
      "text/plain": [
       "<Figure size 1440x720 with 1 Axes>"
      ]
     },
     "metadata": {
      "needs_background": "light"
     },
     "output_type": "display_data"
    }
   ],
   "source": [
    "# plot_genetic_analysis(m_generation_numbers, m_prediction_tree_accuracies, m_slp_accuracies, m_majority_accuracies, m_population_mean_accuracies, dataset_name = \"MNIST\")"
   ]
  },
  {
   "cell_type": "code",
   "execution_count": 33,
   "metadata": {},
   "outputs": [
    {
     "name": "stdout",
     "output_type": "stream",
     "text": [
      "Generation  0 : \tSLP:0.9669\tMajority Voting:0.966\tPrediction Tree:0.8696\tPopulation Mean Accuracy:0.9233618247754117\n",
      "Generation  1 : \tSLP:0.9661\tMajority Voting:0.9623\tPrediction Tree:0.8627\tPopulation Mean Accuracy:0.9263423929021506\n",
      "Generation  2 : \tSLP:0.9663\tMajority Voting:0.9618\tPrediction Tree:0.8625\tPopulation Mean Accuracy:0.924204976879487\n",
      "Generation  3 : \tSLP:0.967\tMajority Voting:0.9619\tPrediction Tree:0.8676\tPopulation Mean Accuracy:0.9256209642802525\n",
      "Generation  4 : \tSLP:0.9667\tMajority Voting:0.9567\tPrediction Tree:0.8573\tPopulation Mean Accuracy:0.9267027510898509\n",
      "Generation  5 : \tSLP:0.968\tMajority Voting:0.9592\tPrediction Tree:0.856\tPopulation Mean Accuracy:0.9273847879685274\n",
      "Generation  6 : \tSLP:0.9683\tMajority Voting:0.9598\tPrediction Tree:0.8639\tPopulation Mean Accuracy:0.9268635148685288\n",
      "Generation  7 : \tSLP:0.9674\tMajority Voting:0.9631\tPrediction Tree:0.8674\tPopulation Mean Accuracy:0.9262677885986479\n",
      "Generation  8 : \tSLP:0.9669\tMajority Voting:0.9643\tPrediction Tree:0.8632\tPopulation Mean Accuracy:0.9267382291496077\n",
      "Generation  9 : \tSLP:0.9654\tMajority Voting:0.9637\tPrediction Tree:0.8615\tPopulation Mean Accuracy:0.924988327468486\n",
      "Generation  10 : \tSLP:0.9658\tMajority Voting:0.9614\tPrediction Tree:0.8615\tPopulation Mean Accuracy:0.9257258669911841\n"
     ]
    }
   ],
   "source": [
    "# for i in range(len(m_generation_numbers)):\n",
    "#     print(\"Generation \", m_generation_numbers[i], \":\", end=\" \") \n",
    "#     print(\"\\tSLP:{}\\tMajority Voting:{}\\tPrediction Tree:{}\\tPopulation Mean Accuracy:{}\".format(m_slp_accuracies[i], m_majority_accuracies[i], m_prediction_tree_accuracies[i], m_population_mean_accuracies[i]))"
   ]
  },
  {
   "cell_type": "code",
   "execution_count": 11,
   "metadata": {},
   "outputs": [],
   "source": [
    "# cgfc = CustomGeneticForestClassifier(N=200, generation_number=10, class_percentage = 0.5)"
   ]
  },
  {
   "cell_type": "code",
   "execution_count": 12,
   "metadata": {},
   "outputs": [
    {
     "name": "stdout",
     "output_type": "stream",
     "text": [
      "Genetic algorithm is started.\n",
      "Generation: 0\n",
      "Started to train 200 trees.\n",
      "Trained Trees: 7 2 19 4 1 6 8 12 20 9 11 17 10 13 18 15 14 3 5 16 25 21 30 34 38 37 33 22 29 39 23 28 31 24 35 26 27 36 40 32 57 45 46 42 50 49 53 54 58 60 44 47 51 52 56 41 55 48 59 43 73 69 78 77 64 68 62 65 70 61 74 79 66 67 72 80 71 76 63 75 93 89 82 94 85 97 90 95 86 83 96 100 92 81 99 98 87 84 88 91 102 106 105 103 113 117 110 114 112 118 107 116 101 109 104 111 115 120 108 119 121 138 133 126 137 130 134 129 128 125 140 136 122 123 124 132 127 135 131 139 153 157 154 146 149 145 156 158 150 143 141 151 159 148 155 142 160 147 152 144 169 164 168 178 174 177 161 170 173 166 162 180 171 165 176 163 175 167 179 172 184 195 192 191 188 200 199 190 196 187 193 182 186 181 189 183 194 198 197 185 \n",
      "200 Trees are trained.\n",
      "Generation: 1\n",
      "Started to train 200 trees.\n",
      "Trained Trees: 17 3 1 5 16 8 2 13 19 9 6 18 20 4 7 14 10 12 15 11 33 30 26 29 36 23 21 38 31 24 28 25 34 37 39 35 32 40 22 27 60 49 48 51 55 52 44 59 42 43 56 41 46 57 47 58 53 45 50 54 65 74 78 61 69 70 62 73 66 75 77 76 80 72 71 67 63 68 79 64 82 90 88 96 89 99 85 83 98 100 97 84 81 94 95 93 91 87 86 92 103 110 102 118 106 113 120 116 109 117 119 105 101 107 115 111 114 104 108 112 122 138 126 129 137 130 125 121 133 127 134 131 136 132 139 128 123 140 124 135 150 142 141 149 158 145 146 157 151 154 153 147 148 144 143 159 156 160 155 152 177 166 170 174 178 169 173 165 162 168 161 163 171 172 176 180 167 175 164 179 181 190 196 197 183 193 191 184 189 186 185 194 182 187 192 199 198 195 200 188 \n",
      "200 Trees are trained.\n",
      "Generation: 2\n",
      "Started to train 200 trees.\n",
      "Trained Trees: 1 13 5 17 6 18 10 2 14 4 12 9 7 15 11 8 3 16 19 20 30 33 23 26 32 37 21 38 35 39 27 22 31 34 28 24 29 25 36 40 43 53 44 49 46 52 42 41 58 60 48 59 54 45 50 51 56 57 55 47 68 71 72 76 79 61 63 80 70 67 64 69 75 65 66 74 78 73 77 62 92 98 90 87 86 94 96 91 82 99 100 84 88 85 81 97 95 83 89 93 106 114 101 102 108 113 117 118 107 110 105 116 119 103 109 115 111 104 120 112 129 140 121 135 130 122 127 124 132 126 139 138 123 133 128 137 125 136 131 134 149 153 141 142 145 158 150 154 157 146 156 159 160 144 151 148 147 143 155 152 165 173 174 169 178 177 166 162 161 170 172 176 179 180 164 163 168 167 175 171 198 186 194 190 200 193 197 185 189 192 181 182 195 188 183 191 187 184 199 196 \n",
      "200 Trees are trained.\n",
      "Generation: 3\n",
      "Started to train 200 trees.\n",
      "Trained Trees: 3 16 1 7 19 5 9 18 13 20 17 2 4 14 6 15 11 8 10 12 30 37 21 29 22 38 24 33 35 25 23 34 26 40 39 31 36 32 28 27 43 54 42 51 49 44 57 56 59 60 53 58 47 52 46 41 45 48 55 50 69 78 61 77 73 63 62 80 70 64 65 66 68 72 74 79 71 67 75 76 86 82 94 81 88 93 84 85 97 90 99 89 98 91 100 95 87 83 96 92 110 102 113 105 101 118 112 114 117 109 115 103 119 104 108 107 116 120 106 111 124 139 128 125 130 135 127 123 138 133 126 122 132 121 136 137 134 140 129 131 149 146 158 157 150 154 153 145 156 159 143 141 148 160 155 151 152 144 147 142 174 170 165 163 177 180 179 166 169 173 162 167 164 178 168 176 175 161 172 171 188 185 196 186 190 197 194 187 192 200 183 184 181 199 198 193 191 189 182 195 \n",
      "200 Trees are trained.\n",
      "Generation: 4\n",
      "Started to train 200 trees.\n",
      "Trained Trees: 19 16 20 11 4 15 2 8 6 5 10 7 12 9 18 1 3 14 13 17 21 38 33 22 34 37 29 30 32 26 25 31 35 39 27 36 28 23 24 40 58 49 53 41 50 43 57 60 45 54 51 47 52 56 48 46 44 59 55 42 61 62 78 69 65 70 73 77 64 75 74 66 76 71 63 72 68 80 79 67 98 85 89 90 93 82 86 94 97 100 87 95 99 81 91 88 92 83 96 84 108 115 112 111 103 120 107 101 116 113 118 110 114 105 109 119 104 102 106 117 137 126 130 122 133 134 121 138 129 127 132 139 140 128 135 136 124 131 125 123 145 149 150 142 153 144 151 141 157 146 155 154 148 158 152 147 156 159 143 160 161 175 173 164 162 169 167 178 171 163 179 166 165 176 172 177 174 180 170 168 190 198 185 197 182 193 194 188 181 189 183 186 184 199 191 187 192 196 200 195 \n",
      "200 Trees are trained.\n",
      "Generation: 5\n",
      "Started to train 200 trees.\n",
      "Trained Trees: 17 1 13 14 6 18 9 5 10 16 12 3 4 15 20 7 2 11 8 19 22 25 29 37 21 34 33 26 38 32 23 40 28 31 35 27 30 39 24 36 41 57 58 45 54 49 53 46 59 50 47 48 42 43 55 52 44 51 56 60 69 70 78 62 73 61 74 65 77 72 63 67 76 80 79 64 66 71 75 68 99 91 95 83 88 92 96 100 94 98 87 86 82 89 81 97 90 84 93 85 102 118 109 105 114 117 106 113 110 104 107 111 101 103 115 112 119 116 108 120 136 124 139 131 128 135 126 121 137 125 133 132 123 127 138 134 140 130 129 122 147 149 157 150 148 145 142 151 146 154 159 152 153 155 143 158 141 144 160 156 164 171 166 177 173 179 161 180 163 175 162 172 165 170 167 178 168 176 174 169 192 189 193 190 185 187 184 199 191 200 197 196 198 195 182 181 183 186 194 188 \n",
      "200 Trees are trained.\n",
      "Generation: 6\n",
      "Started to train 200 trees.\n",
      "Trained Trees: 13 17 10 6 14 9 5 2 18 1 8 3 4 15 19 7 12 16 11 20 22 33 38 30 26 34 29 21 37 24 23 35 39 27 40 36 25 28 31 32 48 55 51 60 59 52 56 44 43 49 57 58 47 54 45 42 41 50 46 53 66 73 78 74 61 65 77 69 70 62 64 71 76 67 68 72 75 79 80 63 86 85 94 90 98 93 83 87 97 81 100 95 89 88 99 82 96 84 91 92 101 102 113 106 110 114 115 109 118 108 117 105 103 120 104 119 111 107 112 116 137 133 126 124 125 129 134 130 138 123 140 127 131 122 132 135 121 139 136 128 142 150 157 154 153 145 158 146 148 149 144 151 152 141 155 156 159 147 143 160 162 161 165 170 178 167 166 175 174 164179  177 173 169 163 171 176 168 172 180 197 185 186 198 193 182 189 194 190 187 191 183 184 192 188 200 195 181 199 196 \n",
      "200 Trees are trained.\n",
      "Generation: 7\n",
      "Started to train 200 trees.\n",
      "Trained Trees: 5 13 1 12 14 18 15 4 8 2 19 9 6 10 16 11 17 7 20 3 34 38 37 25 30 33 29 26 27 36 35 40 39 22 31 24 32 21 23 28 54 57 42 49 46 58 50 47 41 53 45 51 43 59 60 48 44 56 55 52 70 66 73 65 61 69 77 74 78 62 79 80 75 64 76 68 63 72 71 67 83 99 97 82 94 86 85 84 98 96 91 90 88 95 100 81 92 89 87 93 115 116 107 119 111 112 102 101 117 114 110 108 106 109 103 104 120 118 105 113 137 134 123 133 138 124 130 126 129 139 135 121 122 140 128 136 127 132 131 125 145 150 142 146 157 141 153 144 154 158 151 152 160 143 147 149 148 156 159 155 163 168 180 173 175 164 176 166 179 161 174 170 171 165 172 167 162 169 177 178 198 187 190 189 185 197 193 186 194 181 188 182 191 199 196 183 195 192 200 184 \n",
      "200 Trees are trained.\n",
      "Generation: 8\n",
      "Started to train 200 trees.\n",
      "Trained Trees: 17 9 10 6 14 2 13 18 5 7 3 12 1 15 8 19 11 4 20 16 26 37 29 33 38 22 30 24 32 34 25 39 40 35 27 21 31 23 28 36 49 53 45 57 41 54 50 58 42 46 51 59 47 44 60 43 55 48 56 52 61 74 66 62 70 69 77 78 73 63 75 65 80 71 67 79 64 68 72 76 93 81 90 98 99 84 92 97 82 94 83 86 88 85 91 95 89 87 100 96 113 105 109 115 111 114 102 106 101 118 112 110 117 108 103 104 120 107 119 116 129 138 121 137 125 130 133 134 126 122 139 128 127 132 135 131 140 124 136 123 154 153 149 158 145 150 141 157 147 160 142 143 155 144 151 152 159 148 156 146 178 177 173 164 174 166 161 170 163 171 165 169 179 162 172 175 167 176 168 180 193 186 185 189 194 190 182 198 181 192 196 197 187 200 199 183 184 188 195 191 \n",
      "200 Trees are trained.\n",
      "Generation: 9\n",
      "Started to train 200 trees.\n",
      "Trained Trees: 2 1 6 13 17 5 14 10 11 19 9 3 4 7 18 12 15 16 8 20 25 22 30 29 38 37 33 34 28 21 35 26 24 31 40 39 27 23 32 36 58 57 54 49 50 53 46 55 45 48 59 43 42 60 41 44 51 56 52 47 73 77 61 70 78 69 74 65 62 76 79 66 63 71 67 80 72 64 75 68 81 98 86 89 97 82 94 90 93 85 88 99 96 92 87 95 84 91 83 100 103 118 117 109 101 110 114 113 108 105 115 102 106 116 107 112 111 119 104 120 130 125 122 133 138 129 137 134 121 132 124 123 127 126 139 136 135 131 140 128 142 145 141 158 144 154 157 143 153 149 159 147 148 146 152 160 150 156 151 155 174 173 178 177 161 170 169 163 162 164 175 168 165 166 172 171 176 180 179 167 193 194 189 198 197 190 181 186 192 196 185 182 195 188 187 191 183 184 199 200 \n",
      "200 Trees are trained.\n",
      "Generation: 10\n",
      "Started to train 200 trees.\n",
      "Trained Trees: 1 6 18 9 19 12 3 10 15 4 5 16 11 2 17 8 14 7 20 13 22 33 38 37 29 30 25 34 39 26 36 31 40 27 35 24 28 23 32 21 50 57 58 46 45 53 49 41 54 55 43 59 42 60 44 52 56 47 48 51 63 78 66 65 77 70 73 74 68 61 72 71 67 69 75 64 80 79 62 76 81 88 86 96 85 84 94 90 91 99 97 89 95 83 87 82 93 100 92 98 114 106 115 118 102 103 113 101 105 117 109 108 116 104 110 111 107 112 119 120 129 130 138 134 121 125 133 122 137 123 140 127 124 128 132 126 136 135 131 139 153 158 154 157 150 141 146 149 145 142 144 159 143 160 152 156 151 147 148 155 166 165 169 173 177 170 178 162 172 175 174 161 168 171 167 179 163 180 176 164 181 190 186 198 197 193 189 183 184 187 199 191 182 194 192 188 195 185 200 196 \n",
      "200 Trees are trained.\n",
      "\n",
      "Genetic algorithm is ended.\n",
      "Started to train SLP.\n",
      "SLP is trained.\n",
      "Started to train SLP.\n",
      "SLP is trained.\n",
      "Started to train SLP.\n",
      "SLP is trained.\n",
      "Started to train SLP.\n",
      "SLP is trained.\n",
      "Started to train SLP.\n",
      "SLP is trained.\n",
      "Started to train SLP.\n",
      "SLP is trained.\n",
      "Started to train SLP.\n",
      "SLP is trained.\n",
      "Started to train SLP.\n",
      "SLP is trained.\n",
      "Started to train SLP.\n",
      "SLP is trained.\n",
      "Started to train SLP.\n",
      "SLP is trained.\n",
      "Started to train SLP.\n",
      "SLP is trained.\n"
     ]
    }
   ],
   "source": [
    "# fm_generation_numbers, fm_prediction_tree_accuracies, fm_slp_accuracies, fm_majority_accuracies, fm_population_mean_accuracies = cgfc.model_analysis(fm_X_train, fm_y_train, fm_X_test, fm_y_test)"
   ]
  },
  {
   "cell_type": "code",
   "execution_count": 13,
   "metadata": {},
   "outputs": [
    {
     "data": {
      "image/png": "[encoded data removed]",
      "text/plain": [
       "<Figure size 1440x720 with 1 Axes>"
      ]
     },
     "metadata": {
      "needs_background": "light"
     },
     "output_type": "display_data"
    }
   ],
   "source": [
    "# plot_genetic_analysis(fm_generation_numbers, fm_prediction_tree_accuracies, fm_slp_accuracies, fm_majority_accuracies, fm_population_mean_accuracies, dataset_name = \"Fashion MNIST\")"
   ]
  },
  {
   "cell_type": "code",
   "execution_count": 34,
   "metadata": {},
   "outputs": [
    {
     "name": "stdout",
     "output_type": "stream",
     "text": [
      "Generation  0 : \tSLP:0.8738\tMajority Voting:0.8677\tPrediction Tree:0.7809\tPopulation Mean Accuracy:0.8755487770887777\n",
      "Generation  1 : \tSLP:0.8724\tMajority Voting:0.8656\tPrediction Tree:0.7686\tPopulation Mean Accuracy:0.8822277614296021\n",
      "Generation  2 : \tSLP:0.8704\tMajority Voting:0.8658\tPrediction Tree:0.7761\tPopulation Mean Accuracy:0.8844360187678171\n",
      "Generation  3 : \tSLP:0.8706\tMajority Voting:0.8684\tPrediction Tree:0.7839\tPopulation Mean Accuracy:0.8911910589453188\n",
      "Generation  4 : \tSLP:0.8704\tMajority Voting:0.8648\tPrediction Tree:0.7689\tPopulation Mean Accuracy:0.8909562806735153\n",
      "Generation  5 : \tSLP:0.8713\tMajority Voting:0.8643\tPrediction Tree:0.787\tPopulation Mean Accuracy:0.8908504351026575\n",
      "Generation  6 : \tSLP:0.8715\tMajority Voting:0.8561\tPrediction Tree:0.7891\tPopulation Mean Accuracy:0.8933557984764675\n",
      "Generation  7 : \tSLP:0.8706\tMajority Voting:0.8575\tPrediction Tree:0.7789\tPopulation Mean Accuracy:0.8925298305815619\n",
      "Generation  8 : \tSLP:0.8716\tMajority Voting:0.861\tPrediction Tree:0.7557\tPopulation Mean Accuracy:0.8904574594249877\n",
      "Generation  9 : \tSLP:0.8725\tMajority Voting:0.8602\tPrediction Tree:0.7705\tPopulation Mean Accuracy:0.8939362587494435\n",
      "Generation  10 : \tSLP:0.8722\tMajority Voting:0.862\tPrediction Tree:0.7591\tPopulation Mean Accuracy:0.8908428745410575\n"
     ]
    }
   ],
   "source": [
    "# for i in range(len(fm_generation_numbers)):\n",
    "#     print(\"Generation \", fm_generation_numbers[i], \":\", end=\" \") \n",
    "#     print(\"\\tSLP:{}\\tMajority Voting:{}\\tPrediction Tree:{}\\tPopulation Mean Accuracy:{}\".format(fm_slp_accuracies[i], fm_majority_accuracies[i], fm_prediction_tree_accuracies[i], fm_population_mean_accuracies[i]))"
   ]
  },
  {
   "cell_type": "code",
   "execution_count": null,
   "metadata": {},
   "outputs": [],
   "source": [
    "cgfc = CustomGeneticForestClassifier(N=200, generation_number=10, class_percentage = 0.5)"
   ]
  },
  {
   "cell_type": "code",
   "execution_count": null,
   "metadata": {},
   "outputs": [],
   "source": [
    "c_generation_numbers, c_prediction_tree_accuracies, c_slp_accuracies, c_majority_accuracies, c_population_mean_accuracies = cgfc.model_analysis(c_X_train, c_y_train, c_X_test, c_y_test)"
   ]
  },
  {
   "cell_type": "code",
   "execution_count": null,
   "metadata": {},
   "outputs": [],
   "source": [
    "plot_genetic_analysis(c_generation_numbers, c_prediction_tree_accuracies, c_slp_accuracies, c_majority_accuracies, c_population_mean_accuracies, dataset_name = \"Cifar-10\")"
   ]
  },
  {
   "cell_type": "code",
   "execution_count": null,
   "metadata": {},
   "outputs": [],
   "source": [
    "for i in range(len(c_generation_numbers)):\n",
    "    print(\"Generation \", c_generation_numbers[i], \":\", end=\" \") \n",
    "    print(\"\\tSLP:{}\\tMajority Voting:{}\\tPrediction Tree:{}\\tPopulation Mean Accuracy:{}\".format(c_slp_accuracies[i], c_majority_accuracies[i], c_prediction_tree_accuracies[i], c_population_mean_accuracies[i]))"
   ]
  },
  {
   "cell_type": "code",
   "execution_count": null,
   "metadata": {},
   "outputs": [],
   "source": []
  },
  {
   "cell_type": "code",
   "execution_count": null,
   "metadata": {},
   "outputs": [],
   "source": [
    "def plot_accuracies(x_values, accuracies, title, x_label):\n",
    "    plt.figure(figsize=(20, 10))\n",
    "    for algorithm, accuracies in accuracies.items():\n",
    "        plt.plot(x_values, accuracies, marker=\"o\", label = algorithm)\n",
    "    plt.title(title, fontsize=25)\n",
    "    plt.xlabel(\"\\n{}\".format(x_label), fontsize=15)\n",
    "    plt.ylabel(\"Accuracy\\n\", fontsize=20)\n",
    "    plt.legend(loc='lower right', prop={'size': 15})\n",
    "    plt.show()"
   ]
  },
  {
   "cell_type": "code",
   "execution_count": null,
   "metadata": {},
   "outputs": [],
   "source": [
    "def get_accuracies(X_train, X_test, y_train, y_test, tree_number, generation_number, class_percentage):\n",
    "    cgfc = CustomGeneticForestClassifier(N=tree_number, generation_number = generation_number, class_percentage = class_percentage)\n",
    "    cgfc.fit(X_train, y_train)\n",
    "    slp_pred=cgfc.slp_predict(X_test)\n",
    "    prediction_tree_pred=cgfc.prediction_tree_predict(X_test)\n",
    "    majority_voting_pred=cgfc.majority_voting_predict(X_test)\n",
    "    \n",
    "    slp_accuracy = metrics.accuracy_score(y_test, slp_pred)\n",
    "    prediction_tree_accuracy = metrics.accuracy_score(y_test, prediction_tree_pred)\n",
    "    majority_voting_accuracy = metrics.accuracy_score(y_test, majority_voting_pred)\n",
    "    \n",
    "    return slp_accuracy, majority_voting_accuracy, prediction_tree_accuracy"
   ]
  },
  {
   "cell_type": "code",
   "execution_count": null,
   "metadata": {},
   "outputs": [],
   "source": [
    "def number_of_trees_analysis(N_list, X_train, X_test, y_train, y_test):\n",
    "    accuracies_of_N_trees_y = {\"SLP\": [], \"Prediction Tree\": [], \"Majority Voting\": [], \"Random Forest (scikit-learn)\":[]}\n",
    "    for N in N_list:\n",
    "        slp_accuracy, majority_voting_accuracy, prediction_tree_accuracy = get_accuracies(X_train, X_test, y_train, y_test, tree_number = N, generation_number = 5, class_percentage = 0.5)\n",
    "        rf = RandomForestClassifier(n_estimators = N, max_samples = 0.5)\n",
    "        X_train_rf, X_valid_rf, y_train_rf, y_valid_rf = train_test_split(X_train, y_train, test_size=0.2, random_state=0) \n",
    "        rf.fit(X_train_rf, y_train_rf.values.ravel())\n",
    "        rf_pred = rf.predict(X_test)\n",
    "        accuracies_of_N_trees_y[\"Random Forest (scikit-learn)\"].append(metrics.accuracy_score(y_test, rf_pred))\n",
    "        accuracies_of_N_trees_y[\"SLP\"].append(slp_accuracy)\n",
    "        accuracies_of_N_trees_y[\"Prediction Tree\"].append(prediction_tree_accuracy)\n",
    "        accuracies_of_N_trees_y[\"Majority Voting\"].append(majority_voting_accuracy)\n",
    "    return accuracies_of_N_trees_y"
   ]
  },
  {
   "cell_type": "code",
   "execution_count": null,
   "metadata": {},
   "outputs": [],
   "source": [
    "def class_percentage_analysis(class_percentage_list, X_train, X_test, y_train, y_test):\n",
    "    accuracies_of_class_percentages_y = {\"SLP\": [], \"Prediction Tree\": [], \"Majority Voting\": []}\n",
    "    for class_percentage in class_percentage_list:\n",
    "        slp_accuracy, majority_voting_accuracy, prediction_tree_accuracy = get_accuracies(X_train, X_test, y_train, y_test, tree_number = 100, generation_number = 5, class_percentage = class_percentage)\n",
    "        accuracies_of_class_percentages_y[\"SLP\"].append(slp_accuracy)\n",
    "        accuracies_of_class_percentages_y[\"Prediction Tree\"].append(prediction_tree_accuracy)\n",
    "        accuracies_of_class_percentages_y[\"Majority Voting\"].append(majority_voting_accuracy)\n",
    "    return accuracies_of_class_percentages_y"
   ]
  },
  {
   "cell_type": "code",
   "execution_count": null,
   "metadata": {},
   "outputs": [],
   "source": [
    "N_list = [i*25 for i in range(1,13)]"
   ]
  },
  {
   "cell_type": "code",
   "execution_count": null,
   "metadata": {},
   "outputs": [],
   "source": [
    "m_accuracies_of_N_trees_y = number_of_trees_analysis(N_list, m_X_train, m_X_test, m_y_train, m_y_test)"
   ]
  },
  {
   "cell_type": "code",
   "execution_count": null,
   "metadata": {},
   "outputs": [],
   "source": [
    "plot_title = \"Accuracy of Algorithms wrt. Number of Trees (MNIST)\\n\"\n",
    "plot_accuracies(N_list, m_accuracies_of_N_trees_y, plot_title, \"N Trees\")\n",
    "print(m_accuracies_of_N_trees_y)"
   ]
  },
  {
   "cell_type": "code",
   "execution_count": null,
   "metadata": {},
   "outputs": [],
   "source": [
    "fm_accuracies_of_N_trees_y = number_of_trees_analysis(N_list, fm_X_train, fm_X_test, fm_y_train, fm_y_test)"
   ]
  },
  {
   "cell_type": "code",
   "execution_count": null,
   "metadata": {},
   "outputs": [],
   "source": [
    "plot_title = \"Accuracy of Algorithms wrt. Number of Trees (Fashion MNIST)\\n\"\n",
    "plot_accuracies(N_list, fm_accuracies_of_N_trees_y, plot_title, \"N Trees\")\n",
    "print(fm_accuracies_of_N_trees_y)"
   ]
  },
  {
   "cell_type": "code",
   "execution_count": null,
   "metadata": {},
   "outputs": [],
   "source": [
    "c_accuracies_of_N_trees_y = number_of_trees_analysis(N_list, c_X_train, c_X_test, c_y_train, c_y_test)"
   ]
  },
  {
   "cell_type": "code",
   "execution_count": null,
   "metadata": {},
   "outputs": [],
   "source": [
    "plot_title = \"Accuracy of Algorithms wrt. Number of Trees (Cifar-10)\\n\"\n",
    "plot_accuracies(N_list, c_accuracies_of_N_trees_y, plot_title, \"N Trees\")\n",
    "print(c_accuracies_of_N_trees_y)"
   ]
  },
  {
   "cell_type": "code",
   "execution_count": null,
   "metadata": {},
   "outputs": [],
   "source": [
    "class_percentage_list = [i*0.2 for i in range(1,6)]"
   ]
  },
  {
   "cell_type": "code",
   "execution_count": null,
   "metadata": {},
   "outputs": [],
   "source": [
    "m_accuracies_of_class_percentages_y = class_percentage_analysis(class_percentage_list, m_X_train, m_X_test, m_y_train, m_y_test)"
   ]
  },
  {
   "cell_type": "code",
   "execution_count": null,
   "metadata": {},
   "outputs": [],
   "source": [
    "plot_title = \"Accuracy of Algorithms wrt. Class Percentage (MNIST)\\n\"\n",
    "plot_accuracies(class_percentage_list, m_accuracies_of_class_percentages_y, plot_title, \"Class Percentage\")\n",
    "print(m_accuracies_of_class_percentages_y)"
   ]
  },
  {
   "cell_type": "code",
   "execution_count": null,
   "metadata": {},
   "outputs": [],
   "source": [
    "fm_accuracies_of_class_percentages_y = class_percentage_analysis(class_percentage_list, fm_X_train, fm_X_test, fm_y_train, fm_y_test)"
   ]
  },
  {
   "cell_type": "code",
   "execution_count": null,
   "metadata": {},
   "outputs": [],
   "source": [
    "plot_title = \"Accuracy of Algorithms wrt. Class Percentage (Fashion MNIST)\\n\"\n",
    "plot_accuracies(class_percentage_list, fm_accuracies_of_class_percentages_y, plot_title, \"Class Percentage\")\n",
    "print(fm_accuracies_of_class_percentages_y)"
   ]
  },
  {
   "cell_type": "code",
   "execution_count": null,
   "metadata": {},
   "outputs": [],
   "source": [
    "c_accuracies_of_class_percentages_y = class_percentage_analysis(class_percentage_list, c_X_train, c_X_test, c_y_train, c_y_test)"
   ]
  },
  {
   "cell_type": "code",
   "execution_count": null,
   "metadata": {},
   "outputs": [],
   "source": [
    "plot_title = \"Accuracy of Algorithms wrt. Class Percentage (Cifar-10)\\n\"\n",
    "plot_accuracies(class_percentage_list, c_accuracies_of_class_percentages_y, plot_title, \"Class Percentage\")\n",
    "print(c_accuracies_of_class_percentages_y)"
   ]
  },
  {
   "cell_type": "code",
   "execution_count": null,
   "metadata": {},
   "outputs": [],
   "source": []
  },
  {
   "cell_type": "code",
   "execution_count": null,
   "metadata": {},
   "outputs": [],
   "source": []
  }
 ],
 "metadata": {
  "kernelspec": {
   "display_name": "Python 3",
   "language": "python",
   "name": "python3"
  },
  "language_info": {
   "codemirror_mode": {
    "name": "ipython",
    "version": 3
   },
   "file_extension": ".py",
   "mimetype": "text/x-python",
   "name": "python",
   "nbconvert_exporter": "python",
   "pygments_lexer": "ipython3",
   "version": "3.8.3"
  }
 },
 "nbformat": 4,
 "nbformat_minor": 4
}
