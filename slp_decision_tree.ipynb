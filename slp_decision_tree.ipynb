{
 "cells": [
  {
   "cell_type": "code",
   "execution_count": 1,
   "metadata": {},
   "outputs": [],
   "source": [
    "# pip install python-mnist will install the required package\n",
    "from mnist import MNIST\n",
    "import numpy as np\n",
    "import pandas as pd\n",
    "import matplotlib.pyplot as plt\n",
    "from sklearn.tree import DecisionTreeClassifier\n",
    "from sklearn.model_selection import train_test_split\n",
    "from sklearn import metrics"
   ]
  },
  {
   "cell_type": "code",
   "execution_count": 2,
   "metadata": {},
   "outputs": [],
   "source": [
    "np.random.seed(60) # reproducability\n",
    "mndata = MNIST('Datasets/MNIST')\n",
    "\n",
    "# read training images and corresponding labels\n",
    "tr_images, tr_labels = mndata.load_training()\n",
    "# read test images and corresponding labels\n",
    "tt_images, tt_labels = mndata.load_testing()\n",
    "\n",
    "# convert lists into numpy format and apply normalization\n",
    "tr_images = np.array(tr_images) / 255. # shape (60000, 784)\n",
    "tr_labels = np.array(tr_labels)         # shape (60000,)\n",
    "tt_images = np.array(tt_images) / 255. # shape (10000, 784)\n",
    "tt_labels = np.array(tt_labels)         # shape (10000,)\n",
    "\n",
    "columns_images = ['p{}'.format(i+1) for i in range(784)]\n",
    "tr_df_images = pd.DataFrame(data=tr_images, columns=columns_images)\n",
    "tr_df_labels = pd.DataFrame(data=tr_labels, columns=['label'])\n",
    "tt_df_images = pd.DataFrame(data=tt_images, columns=columns_images)\n",
    "tt_df_labels = pd.DataFrame(data=tt_labels, columns=['label'])"
   ]
  },
  {
   "cell_type": "code",
   "execution_count": 3,
   "metadata": {},
   "outputs": [],
   "source": [
    "X_train, X_test, y_train, y_test = train_test_split(tr_df_images, tr_df_labels, test_size=0.2, random_state=0)"
   ]
  },
  {
   "cell_type": "code",
   "execution_count": 4,
   "metadata": {},
   "outputs": [],
   "source": [
    "dtc = DecisionTreeClassifier(random_state=0, max_depth = 40, min_samples_split = 2, min_samples_leaf=2, max_leaf_nodes=1000, min_impurity_decrease=0.00003)"
   ]
  },
  {
   "cell_type": "code",
   "execution_count": 5,
   "metadata": {},
   "outputs": [
    {
     "name": "stdout",
     "output_type": "stream",
     "text": [
      "Accuracy: 0.8724166666666666\n"
     ]
    }
   ],
   "source": [
    "# Train Decision Tree Classifer\n",
    "dtc = dtc.fit(X_train,y_train)\n",
    "y_pred = dtc.predict(X_test)\n",
    "print(\"Accuracy:\",metrics.accuracy_score(y_test, y_pred))"
   ]
  },
  {
   "cell_type": "code",
   "execution_count": 6,
   "metadata": {},
   "outputs": [
    {
     "name": "stderr",
     "output_type": "stream",
     "text": [
      "<ipython-input-6-9c7cb9a7bdae>:3: DataConversionWarning: A column-vector y was passed when a 1d array was expected. Please change the shape of y to (n_samples,), for example using ravel().\n",
      "  rf.fit(X_train,y_train)\n"
     ]
    },
    {
     "name": "stdout",
     "output_type": "stream",
     "text": [
      "0.9595833333333333\n"
     ]
    }
   ],
   "source": [
    "from sklearn.ensemble import RandomForestClassifier\n",
    "rf=RandomForestClassifier(n_estimators=20)\n",
    "rf.fit(X_train,y_train)\n",
    "pred=rf.predict(X_test)\n",
    "print(metrics.accuracy_score(y_test, pred))"
   ]
  },
  {
   "cell_type": "code",
   "execution_count": 7,
   "metadata": {},
   "outputs": [],
   "source": [
    "N=20"
   ]
  },
  {
   "cell_type": "code",
   "execution_count": 8,
   "metadata": {},
   "outputs": [
    {
     "name": "stdout",
     "output_type": "stream",
     "text": [
      "Accuracy of 1 th Tree: 0.8490833333333333\n",
      "Accuracy of 2 th Tree: 0.8491666666666666\n",
      "Accuracy of 3 th Tree: 0.852\n",
      "Accuracy of 4 th Tree: 0.85275\n",
      "Accuracy of 5 th Tree: 0.8564166666666667\n",
      "Accuracy of 6 th Tree: 0.8475833333333334\n",
      "Accuracy of 7 th Tree: 0.8441666666666666\n",
      "Accuracy of 8 th Tree: 0.84775\n",
      "Accuracy of 9 th Tree: 0.8550833333333333\n",
      "Accuracy of 10 th Tree: 0.855\n",
      "Accuracy of 11 th Tree: 0.8511666666666666\n",
      "Accuracy of 12 th Tree: 0.8513333333333334\n",
      "Accuracy of 13 th Tree: 0.8544166666666667\n",
      "Accuracy of 14 th Tree: 0.8525833333333334\n",
      "Accuracy of 15 th Tree: 0.8515833333333334\n",
      "Accuracy of 16 th Tree: 0.8515\n",
      "Accuracy of 17 th Tree: 0.8479166666666667\n",
      "Accuracy of 18 th Tree: 0.8450833333333333\n",
      "Accuracy of 19 th Tree: 0.8544166666666667\n",
      "Accuracy of 20 th Tree: 0.85\n"
     ]
    }
   ],
   "source": [
    "trained_trees = []\n",
    "for i in range(N):\n",
    "    X_train_subtree = X_train.sample(frac=1, replace=True, random_state=i)\n",
    "    Y_train_subtree = y_train.sample(frac=1, replace=True, random_state=i)\n",
    "    dtc = DecisionTreeClassifier(random_state=0)\n",
    "    dtc = dtc.fit(X_train_subtree,Y_train_subtree)\n",
    "    y_pred = dtc.predict(X_test)\n",
    "    print(\"Accuracy of\",i+1,\"th Tree:\",metrics.accuracy_score(y_test, y_pred))\n",
    "    trained_trees.append(dtc)\n"
   ]
  },
  {
   "cell_type": "code",
   "execution_count": 9,
   "metadata": {},
   "outputs": [
    {
     "name": "stdout",
     "output_type": "stream",
     "text": [
      "[[3 6 6 ... 5 1 6]\n",
      " [3 6 6 ... 5 1 6]\n",
      " [3 6 6 ... 5 1 6]\n",
      " ...\n",
      " [3 6 6 ... 5 1 6]\n",
      " [3 6 6 ... 5 1 6]\n",
      " [3 6 6 ... 5 1 6]]\n"
     ]
    }
   ],
   "source": [
    "total_predictions = trained_trees[0].predict(X_test)\n",
    "for i in range(1, N):\n",
    "    total_predictions = np.vstack([total_predictions, trained_trees[i].predict(X_test)])\n",
    "print(total_predictions)"
   ]
  },
  {
   "cell_type": "code",
   "execution_count": 10,
   "metadata": {},
   "outputs": [
    {
     "data": {
      "text/plain": [
       "array([[3, 3, 3, ..., 3, 3, 3],\n",
       "       [6, 6, 6, ..., 6, 6, 6],\n",
       "       [6, 6, 6, ..., 6, 6, 6],\n",
       "       ...,\n",
       "       [5, 5, 5, ..., 5, 5, 5],\n",
       "       [1, 1, 1, ..., 1, 1, 1],\n",
       "       [6, 6, 6, ..., 6, 6, 6]], dtype=uint8)"
      ]
     },
     "execution_count": 10,
     "metadata": {},
     "output_type": "execute_result"
    }
   ],
   "source": [
    "total_predictions = np.transpose(total_predictions)\n",
    "total_predictions"
   ]
  },
  {
   "cell_type": "code",
   "execution_count": 11,
   "metadata": {},
   "outputs": [],
   "source": [
    "predicted_values = []\n",
    "for row in total_predictions:\n",
    "    majority_vote = np.bincount(row).argmax()\n",
    "    predicted_values.append(majority_vote)"
   ]
  },
  {
   "cell_type": "code",
   "execution_count": 12,
   "metadata": {},
   "outputs": [],
   "source": [
    "predicted_values = np.asarray(predicted_values)"
   ]
  },
  {
   "cell_type": "code",
   "execution_count": 13,
   "metadata": {},
   "outputs": [
    {
     "name": "stdout",
     "output_type": "stream",
     "text": [
      "Accuracy of Random Forest Tree: 0.951\n"
     ]
    }
   ],
   "source": [
    "print(\"Accuracy of Random Forest Tree:\",metrics.accuracy_score(y_test, predicted_values))"
   ]
  },
  {
   "cell_type": "code",
   "execution_count": null,
   "metadata": {},
   "outputs": [],
   "source": []
  },
  {
   "cell_type": "code",
   "execution_count": null,
   "metadata": {},
   "outputs": [],
   "source": []
  },
  {
   "cell_type": "code",
   "execution_count": null,
   "metadata": {},
   "outputs": [],
   "source": []
  },
  {
   "cell_type": "code",
   "execution_count": null,
   "metadata": {},
   "outputs": [],
   "source": []
  },
  {
   "cell_type": "code",
   "execution_count": null,
   "metadata": {},
   "outputs": [],
   "source": []
  },
  {
   "cell_type": "code",
   "execution_count": null,
   "metadata": {},
   "outputs": [],
   "source": []
  },
  {
   "cell_type": "code",
   "execution_count": null,
   "metadata": {},
   "outputs": [],
   "source": []
  },
  {
   "cell_type": "code",
   "execution_count": null,
   "metadata": {},
   "outputs": [],
   "source": []
  },
  {
   "cell_type": "code",
   "execution_count": 14,
   "metadata": {},
   "outputs": [],
   "source": [
    "# Genetic algorithm\n",
    "def evolve(trees):\n",
    "    return\n",
    "\n",
    "def crossover(tree1, tree2):\n",
    "    return\n",
    "\n",
    "def mutate(tree):\n",
    "    return\n",
    "\n",
    "def tournament(trees):\n",
    "    return best\n"
   ]
  },
  {
   "cell_type": "code",
   "execution_count": null,
   "metadata": {},
   "outputs": [],
   "source": []
  }
 ],
 "metadata": {
  "kernelspec": {
   "display_name": "Python 3",
   "language": "python",
   "name": "python3"
  },
  "language_info": {
   "codemirror_mode": {
    "name": "ipython",
    "version": 3
   },
   "file_extension": ".py",
   "mimetype": "text/x-python",
   "name": "python",
   "nbconvert_exporter": "python",
   "pygments_lexer": "ipython3",
   "version": "3.8.3"
  }
 },
 "nbformat": 4,
 "nbformat_minor": 4
}
