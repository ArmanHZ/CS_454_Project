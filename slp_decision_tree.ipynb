{
 "cells": [
  {
   "cell_type": "code",
   "execution_count": 1,
   "metadata": {},
   "outputs": [],
   "source": [
    "# pip install python-mnist will install the required package\n",
    "from mnist import MNIST\n",
    "import numpy as np\n",
    "import pandas as pd\n",
    "import matplotlib.pyplot as plt\n",
    "from sklearn.tree import DecisionTreeClassifier\n",
    "from sklearn.model_selection import train_test_split\n",
    "from sklearn import metrics"
   ]
  },
  {
   "cell_type": "code",
   "execution_count": 2,
   "metadata": {},
   "outputs": [],
   "source": [
    "class SlpGeneticForestClassifier:\n",
    "    def __init__(self, N, generation_number):\n",
    "        self.N = N\n",
    "        self.generation_number = generation_number\n",
    "        self.trained_trees = []\n",
    "        \n",
    "        \n",
    "    def fit(self, X_train, y_train):\n",
    "        self.X_train, self.X_valid, self.y_train, self.y_valid = train_test_split(X_train, y_train, test_size=0.2, random_state=0)  # Train-test split pairs\n",
    "        self.label_count = len(y_train.label.unique())\n",
    "        self.sample_count = y_train.shape[0]\n",
    "        tree_parameters = self.genetic_find_parameters()\n",
    "        state_counter = 0\n",
    "        for tree_parameter in tree_parameters:\n",
    "            X_train_subtree = self.X_train.sample(frac=1, replace=True, random_state=state_counter)\n",
    "            Y_train_subtree = self.y_train.sample(frac=1, replace=True, random_state=state_counter)\n",
    "            dtc = DecisionTreeClassifier(**tree_parameter, random_state=state_counter)\n",
    "            dtc = dtc.fit(X_train_subtree,Y_train_subtree)\n",
    "            y_pred = dtc.predict(self.X_valid)\n",
    "            print(\"Accuracy of Tree\",state_counter+1,\":\",metrics.accuracy_score(self.y_valid, y_pred))\n",
    "            self.trained_trees.append(dtc)\n",
    "            state_counter += 1\n",
    "            \n",
    "    \n",
    "    # Genetic algorithm\n",
    "    def genetic_find_parameters(self):\n",
    "        generation = self.generate_parent_samples()\n",
    "        print(\"Generation\\n\",\"*\"*50)\n",
    "        print(generation)\n",
    "        print(\"*\"*50)\n",
    "        # for i in range(self.generation_number):\n",
    "        #     generation = self.evolve(generation)\n",
    "        return generation\n",
    "\n",
    "\n",
    "    def generate_parent_samples(self):\n",
    "        generation = []\n",
    "        for i in range(self.N):\n",
    "            generation.append({\n",
    "                \"max_depth\":  np.random.normal(np.log2(self.sample_count)*2, np.log2(self.sample_count), 1),\n",
    "                \"min_samples_split\": np.random.randint(2,self.label_count),\n",
    "                \"min_samples_leaf\": np.random.randint(2,self.label_count),\n",
    "                \"max_leaf_nodes\": np.random.randint(10, self.sample_count),\n",
    "            })\n",
    "        return generation\n",
    "\n",
    "    def predict(self, X_test):\n",
    "        total_predictions = self.trained_trees[0].predict(X_test)\n",
    "        for i in range(1, self.N):\n",
    "            total_predictions = np.vstack([total_predictions, self.trained_trees[i].predict(X_test)])\n",
    "        total_predictions = np.transpose(total_predictions)\n",
    "        predicted_values = []\n",
    "        for row in total_predictions:\n",
    "            majority_vote = np.bincount(row).argmax()\n",
    "            predicted_values.append(majority_vote)\n",
    "        return np.asarray(predicted_values)\n",
    "            \n",
    "        \n",
    "    def evolve(self, generation):\n",
    "        accuracies = []\n",
    "        for tree_parameter in generation:     \n",
    "            X_train_subtree = self.X_train.sample(frac=1, replace=True, random_state=i)\n",
    "            Y_train_subtree = self.y_train.sample(frac=1, replace=True, random_state=i)\n",
    "            dtc = DecisionTreeClassifier(**tree_parameter)\n",
    "            dtc = dtc.fit(X_train_subtree,Y_train_subtree)\n",
    "            y_pred = dtc.predict(self.X_valid)\n",
    "            accuracies.append(metrics.accuracy_score(self.y_valid, y_pred))\n",
    "        \n",
    "        next_generation = []\n",
    "        max_accuracy_index = np.argmax(accuracies)\n",
    "        next_generation.append(generation[max_accuracy_index])\n",
    "    \n",
    "        for i in range(1, self.N):\n",
    "            parent_1 = self.tournament(generation)\n",
    "            parent_2 = self.tournament(generation)\n",
    "            child = self.crossover(parent_1, parent_2)\n",
    "            self.mutate(child)\n",
    "            next_generation.append(child)\n",
    "        return next_generation\n",
    "\n",
    "    \n",
    "    def crossover(self, tree1, tree2):\n",
    "        return\n",
    "\n",
    "    \n",
    "    def mutate(self, tree):\n",
    "        return\n",
    "\n",
    "    \n",
    "    def tournament(self, trees):\n",
    "        return best"
   ]
  },
  {
   "cell_type": "code",
   "execution_count": 3,
   "metadata": {},
   "outputs": [],
   "source": [
    "np.random.seed(60) # reproducability\n",
    "mndata = MNIST('Datasets/MNIST')\n",
    "\n",
    "# read training images and corresponding labels\n",
    "tr_images, tr_labels = mndata.load_training()\n",
    "# read test images and corresponding labels\n",
    "tt_images, tt_labels = mndata.load_testing()\n",
    "\n",
    "# convert lists into numpy format and apply normalization\n",
    "tr_images = np.array(tr_images) / 255. # shape (60000, 784)\n",
    "tr_labels = np.array(tr_labels)         # shape (60000,)\n",
    "tt_images = np.array(tt_images) / 255. # shape (10000, 784)\n",
    "tt_labels = np.array(tt_labels)         # shape (10000,)\n",
    "\n",
    "columns_images = ['p{}'.format(i+1) for i in range(784)]\n",
    "tr_df_images = pd.DataFrame(data=tr_images, columns=columns_images)\n",
    "tr_df_labels = pd.DataFrame(data=tr_labels, columns=['label'])\n",
    "tt_df_images = pd.DataFrame(data=tt_images, columns=columns_images)\n",
    "tt_df_labels = pd.DataFrame(data=tt_labels, columns=['label'])"
   ]
  },
  {
   "cell_type": "code",
   "execution_count": 4,
   "metadata": {},
   "outputs": [],
   "source": [
    "X_train, X_test, y_train, y_test = train_test_split(tr_df_images, tr_df_labels, test_size=0.2, random_state=0)"
   ]
  },
  {
   "cell_type": "code",
   "execution_count": 5,
   "metadata": {},
   "outputs": [],
   "source": [
    "dtc = DecisionTreeClassifier(random_state=0, max_depth = 30, min_samples_split = 2, min_samples_leaf=2, max_leaf_nodes=1000, min_impurity_decrease=0.00003)"
   ]
  },
  {
   "cell_type": "code",
   "execution_count": 6,
   "metadata": {},
   "outputs": [
    {
     "name": "stdout",
     "output_type": "stream",
     "text": [
      "Accuracy: 0.8724166666666666\n"
     ]
    }
   ],
   "source": [
    "# Train Decision Tree Classifer\n",
    "dtc = dtc.fit(X_train,y_train)\n",
    "y_pred = dtc.predict(X_test)\n",
    "print(\"Accuracy:\",metrics.accuracy_score(y_test, y_pred))"
   ]
  },
  {
   "cell_type": "code",
   "execution_count": 7,
   "metadata": {},
   "outputs": [
    {
     "name": "stderr",
     "output_type": "stream",
     "text": [
      "<ipython-input-7-04f0797df2c8>:3: DataConversionWarning: A column-vector y was passed when a 1d array was expected. Please change the shape of y to (n_samples,), for example using ravel().\n",
      "  rf.fit(X_train,y_train)\n"
     ]
    },
    {
     "name": "stdout",
     "output_type": "stream",
     "text": [
      "0.948\n"
     ]
    }
   ],
   "source": [
    "from sklearn.ensemble import RandomForestClassifier\n",
    "rf=RandomForestClassifier(n_estimators=10)\n",
    "rf.fit(X_train,y_train)\n",
    "pred=rf.predict(X_test)\n",
    "print(metrics.accuracy_score(y_test, pred))"
   ]
  },
  {
   "cell_type": "code",
   "execution_count": 8,
   "metadata": {},
   "outputs": [
    {
     "name": "stdout",
     "output_type": "stream",
     "text": [
      "Generation\n",
      " **************************************************\n",
      "[{'max_depth': array([5.57254433]), 'min_samples_split': 2, 'min_samples_leaf': 6, 'max_leaf_nodes': 5247}, {'max_depth': array([9.56093961]), 'min_samples_split': 4, 'min_samples_leaf': 2, 'max_leaf_nodes': 13773}, {'max_depth': array([32.99840133]), 'min_samples_split': 2, 'min_samples_leaf': 4, 'max_leaf_nodes': 39993}, {'max_depth': array([10.26889347]), 'min_samples_split': 4, 'min_samples_leaf': 6, 'max_leaf_nodes': 4330}, {'max_depth': array([16.43236252]), 'min_samples_split': 7, 'min_samples_leaf': 8, 'max_leaf_nodes': 46403}, {'max_depth': array([19.89919546]), 'min_samples_split': 8, 'min_samples_leaf': 4, 'max_leaf_nodes': 17247}, {'max_depth': array([14.48048912]), 'min_samples_split': 4, 'min_samples_leaf': 4, 'max_leaf_nodes': 40815}, {'max_depth': array([27.10897128]), 'min_samples_split': 2, 'min_samples_leaf': 9, 'max_leaf_nodes': 46697}, {'max_depth': array([43.37421811]), 'min_samples_split': 9, 'min_samples_leaf': 2, 'max_leaf_nodes': 19584}, {'max_depth': array([17.41376649]), 'min_samples_split': 9, 'min_samples_leaf': 4, 'max_leaf_nodes': 19270}]\n",
      "**************************************************\n",
      "Accuracy of Tree 1 : 0.6716666666666666\n",
      "Accuracy of Tree 2 : 0.8177083333333334\n",
      "Accuracy of Tree 3 : 0.8415625\n",
      "Accuracy of Tree 4 : 0.8380208333333333\n",
      "Accuracy of Tree 5 : 0.8401041666666667\n",
      "Accuracy of Tree 6 : 0.8458333333333333\n",
      "Accuracy of Tree 7 : 0.8403125\n",
      "Accuracy of Tree 8 : 0.8372916666666667\n",
      "Accuracy of Tree 9 : 0.8408333333333333\n",
      "Accuracy of Tree 10 : 0.8388541666666667\n",
      "0.926\n"
     ]
    }
   ],
   "source": [
    "sgfc = SlpGeneticForestClassifier(N=10, generation_number=20)\n",
    "sgfc.fit(X_train, y_train)\n",
    "pred=sgfc.predict(X_test)\n",
    "print(metrics.accuracy_score(y_test, pred))"
   ]
  },
  {
   "cell_type": "code",
   "execution_count": 9,
   "metadata": {},
   "outputs": [
    {
     "data": {
      "text/plain": [
       "0.09760528685772735"
      ]
     },
     "execution_count": 9,
     "metadata": {},
     "output_type": "execute_result"
    }
   ],
   "source": [
    "np.random.uniform(0, 0.1)"
   ]
  },
  {
   "cell_type": "code",
   "execution_count": 10,
   "metadata": {},
   "outputs": [
    {
     "data": {
      "text/plain": [
       "array([0.25099539, 0.02028125, 0.0499199 , 0.13618547, 0.19408191,\n",
       "       0.17271978, 0.20880924, 0.04993786, 0.04311953, 0.00136426])"
      ]
     },
     "execution_count": 10,
     "metadata": {},
     "output_type": "execute_result"
    }
   ],
   "source": [
    "abs(np.random.normal(0.05, 0.1, 10))"
   ]
  },
  {
   "cell_type": "code",
   "execution_count": null,
   "metadata": {},
   "outputs": [],
   "source": []
  },
  {
   "cell_type": "code",
   "execution_count": 11,
   "metadata": {},
   "outputs": [
    {
     "data": {
      "text/plain": [
       "0.20297071082829138"
      ]
     },
     "execution_count": 11,
     "metadata": {},
     "output_type": "execute_result"
    }
   ],
   "source": [
    "max(np.random.normal(0.05, 0.1, 1)[0], 0)"
   ]
  },
  {
   "cell_type": "code",
   "execution_count": null,
   "metadata": {},
   "outputs": [],
   "source": []
  }
 ],
 "metadata": {
  "kernelspec": {
   "display_name": "Python 3",
   "language": "python",
   "name": "python3"
  },
  "language_info": {
   "codemirror_mode": {
    "name": "ipython",
    "version": 3
   },
   "file_extension": ".py",
   "mimetype": "text/x-python",
   "name": "python",
   "nbconvert_exporter": "python",
   "pygments_lexer": "ipython3",
   "version": "3.8.3"
  }
 },
 "nbformat": 4,
 "nbformat_minor": 4
}
